{
 "cells": [
  {
   "cell_type": "markdown",
   "id": "531d10d1-5635-4b73-989c-e42a95416d0f",
   "metadata": {},
   "source": [
    "# # Kriging and Interpolation of LightGBM Model Residuals for Soil Moisture Prediction\n",
    "This script performs kriging on model residuals and interpolates them onto a 1km grid. \n",
    "The residuals are computed for each date and saved as GeoTIFF rasters, updating a 1km prediction dataset.\n"
   ]
  },
  {
   "cell_type": "code",
   "execution_count": null,
   "id": "e100cd5c-1078-4f9a-93de-724b679d73cf",
   "metadata": {},
   "outputs": [],
   "source": [
    "# ## Load Required Libraries\n",
    "library(gstat)\n",
    "library(sp)\n",
    "library(dplyr)\n",
    "library(raster)\n",
    "library(terra)\n"
   ]
  },
  {
   "cell_type": "code",
   "execution_count": null,
   "id": "44015f24-3122-481b-8f63-7ae98978f078",
   "metadata": {},
   "outputs": [],
   "source": [
    "# ## Step 1: Load Data\n",
    "# Load the main dataset with residuals and the predicted 1km dataset.\n",
    "data <- read.csv(\"ESACCI_data25km_residuals.csv\")\n",
    "predicted_data <- read.csv(\"dataset_1km.csv\")\n",
    "\n",
    "# Check column names to ensure consistency\n",
    "print(colnames(data))\n",
    "print(colnames(predicted_data))\n",
    "\n"
   ]
  },
  {
   "cell_type": "code",
   "execution_count": null,
   "id": "df8d9d33-9cdf-4850-9603-fa06b8b4123b",
   "metadata": {},
   "outputs": [],
   "source": [
    "# ## Step 2: Define Unique Dates and Initialize Prediction Column\n",
    "# Extract unique dates and add an empty column for kriged soil moisture predictions.\n",
    "dates <- unique(data$Date)\n",
    "predicted_data$lgbRK_predicted_sm <- NA\n",
    "\n"
   ]
  },
  {
   "cell_type": "markdown",
   "id": "87753fa3-57d4-42ba-9c03-915400f4d90f",
   "metadata": {},
   "source": [
    "# ## Step 3: Process Each Date Separately\n"
   ]
  },
  {
   "cell_type": "code",
   "execution_count": null,
   "id": "e97690d6-dff1-48bb-a363-d719d060f933",
   "metadata": {},
   "outputs": [],
   "source": [
    "# For each unique date, filter the dataset, perform kriging, and update predictions.\n",
    "for (date in dates) {\n",
    "  \n",
    "  # ### Load Corresponding Raster\n",
    "  # Load the raster for the date and stack it with other covariates if needed.\n",
    "  raster_file <- paste0(date, \"_.tif\")\n",
    "  if (!file.exists(raster_file)) {\n",
    "    next  # Skip this date if raster is missing\n",
    "  }\n",
    "  covariate_raster <- raster(raster_file)\n",
    "  covariates_stack <- stack(covariate_raster)\n",
    "  proj4string(covariates_stack) <- CRS(\"+proj=utm +zone=30 +datum=WGS84\")\n",
    "  \n",
    "  # ### Filter Data for Current Date\n",
    "  # Convert spatial objects to data frames for subsetting.\n",
    "  df_data <- as.data.frame(data)\n",
    "  df_predicted <- as.data.frame(predicted_data)\n",
    "  \n",
    "  # Filter data and predictions for the current date.\n",
    "  subset_data <- df_data %>% filter(Date == date)\n",
    "  subset_predicted <- df_predicted %>% filter(Date == date)\n",
    "  \n",
    "  # ### Check if Both Subsets Have Data\n",
    "  if (nrow(subset_data) > 0 & nrow(subset_predicted) > 0) {\n",
    "    \n",
    "    # Convert filtered data back to spatial objects and set coordinate reference system.\n",
    "    coordinates(subset_data) <- ~ Lon + Lat\n",
    "    coordinates(subset_predicted) <- ~ Lon + Lat\n",
    "    proj4string(subset_data) <- CRS(\"+proj=utm +zone=30 +datum=WGS84\")\n",
    "    proj4string(subset_predicted) <- CRS(\"+proj=utm +zone=30 +datum=WGS84\")\n",
    "    \n",
    "    # ### Calculate and Fit Variogram Model\n",
    "    # Fit a variogram model to the residuals.\n",
    "    variogram_model <- autofitVariogram(LGB_Residuals ~ 1, subset_data, model = \"Sph\")\n",
    "    \n",
    "    # ### Perform Kriging on Residuals\n",
    "    # Using the variogram model, perform kriging on the residuals.\n",
    "    krige_res <- krige(LGB_Residuals ~ 1, subset_data, newdata = subset_predicted, model = variogram_model$var_model)\n",
    "    kriged_residuals <- krige_res$var1.pred\n",
    "    \n",
    "    # ### Update Predictions with Kriged Residuals\n",
    "    # Add kriged residuals to the 1km predictions.\n",
    "    predicted_data$lgbRK_predicted_sm[predicted_data$Date == date] <- df_predicted$lgb_predicted_sm_1km + kriged_residuals\n",
    "    \n",
    "    # ### Residual Kriging Interpolation for Spatial Mapping\n",
    "    # Prepare a gstat model for residual kriging and interpolate over the covariate raster.\n",
    "    gRK <- gstat(formula = LGB_Residuals ~ 1, locations = subset_data, model = variogram_model$var_model)\n",
    "    \n",
    "    map_RK <- terra::interpolate(object = covariates_stack, model = gRK, xyOnly = TRUE, \n",
    "                                 index = 1, filename = paste0(date, \"_ResidualKrige.tif\"), \n",
    "                                 datatype = \"FLT4S\", overwrite = TRUE)\n",
    "    \n",
    "  } else {\n",
    "    # Print a message if no data is available for the date.\n",
    "    print(paste(\"No data available for date\", date))\n",
    "  }\n",
    "}\n",
    "\n"
   ]
  },
  {
   "cell_type": "markdown",
   "id": "cf5153d2-cf72-4ea1-9e5e-d76782446c38",
   "metadata": {},
   "source": [
    "# ## Step 4: Save Updated Dataset\n"
   ]
  },
  {
   "cell_type": "code",
   "execution_count": null,
   "id": "d91ce6f3-eede-480b-a290-5f34e4a61693",
   "metadata": {},
   "outputs": [],
   "source": [
    "# Export the predicted data with kriged residuals to a CSV file.\n",
    "write.csv(predicted_data, \"final_dataset.csv\", row.names = FALSE)\n"
   ]
  }
 ],
 "metadata": {
  "kernelspec": {
   "display_name": "R",
   "language": "R",
   "name": "ir"
  },
  "language_info": {
   "codemirror_mode": "r",
   "file_extension": ".r",
   "mimetype": "text/x-r-source",
   "name": "R",
   "pygments_lexer": "r",
   "version": "4.4.1"
  }
 },
 "nbformat": 4,
 "nbformat_minor": 5
}
