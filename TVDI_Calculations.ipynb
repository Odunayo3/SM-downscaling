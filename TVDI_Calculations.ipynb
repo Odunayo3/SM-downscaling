{
 "cells": [
  {
   "cell_type": "markdown",
   "id": "e66b0b3d-ee30-4d44-b0bf-291b8843819a",
   "metadata": {},
   "source": [
    "# Temperature Vegetation Dryness Index (TVDI) Calculation\n",
    "This notebook calculates the TVDI based on NDVI and LST data using a polynomial fit for dry and wet edges. TVDI is used to monitor drought conditions by comparing the land surface temperature (LST) with the normalized difference vegetation index (NDVI). Below, we will walk through the code required for this calculation step by step.\n",
    "\n",
    "## Required Libraries\n",
    "We start by importing the necessary libraries for geospatial data handling, computation, and visualization.\n"
   ]
  },
  {
   "cell_type": "code",
   "execution_count": null,
   "id": "3fa6026c-fc48-430b-9cab-1f6fbd07041e",
   "metadata": {},
   "outputs": [],
   "source": [
    "# Import necessary libraries\n",
    "try:\n",
    "    from osgeo import gdal, gdalconst\n",
    "except ImportError:\n",
    "    import gdal\n",
    "    from gdal import gdalconst\n",
    "\n",
    "import numpy as np\n",
    "from glob import glob\n",
    "import os\n",
    "import matplotlib.pyplot as plt\n",
    "from datetime import datetime\n"
   ]
  },
  {
   "cell_type": "markdown",
   "id": "56c8e903-c7a4-4aa4-add7-bb30f36b11ae",
   "metadata": {},
   "source": [
    "## Helper Functions\n",
    "\n",
    "### 1. `get_info(file_ndvi)`\n",
    "This function extracts the geo-transform, projection, and data type information from the input NDVI raster file.\n"
   ]
  },
  {
   "cell_type": "code",
   "execution_count": null,
   "id": "4859535b-8686-43ae-93e6-0838551c663d",
   "metadata": {},
   "outputs": [],
   "source": [
    "# Extract geo-transform, projection, and data type from NDVI file\n",
    "def get_info(file_ndvi):\n",
    "    ndvi_tif = gdal.Open(file_ndvi, gdal.GA_ReadOnly)\n",
    "    ndvi_band = ndvi_tif.GetRasterBand(1)\n",
    "    gt = ndvi_tif.GetGeoTransform()\n",
    "    proj = ndvi_tif.GetProjectionRef()\n",
    "    dtype = ndvi_band.DataType\n",
    "    return gt, proj, dtype\n"
   ]
  },
  {
   "cell_type": "markdown",
   "id": "a9b631cc-511e-4bc8-8b02-bb75fb1a02fc",
   "metadata": {},
   "source": [
    "### 2. `fit(MiniList, MaxList)`\n",
    "Fits polynomial regression lines for the wet and dry edges based on the minimum and maximum LST values.\n"
   ]
  },
  {
   "cell_type": "code",
   "execution_count": null,
   "id": "6675911b-6eae-4741-beda-31ebb895ae1f",
   "metadata": {},
   "outputs": [],
   "source": [
    "# Fit polynomial regression for wet (MinPfit) and dry (MaxPfit) edges\n",
    "def fit(MiniList, MaxList):\n",
    "    ndvi_vector = np.round(np.arange(0.01, 1.01, 0.01), 2)\n",
    "    MiniList_fin = []\n",
    "    ndvi_fin = []\n",
    "    \n",
    "    for i, val in enumerate(MiniList):\n",
    "        if np.isfinite(val):\n",
    "            MiniList_fin.append(val)\n",
    "            ndvi_fin.append(ndvi_vector[i])\n",
    "    \n",
    "    MinPfit = np.polyfit(ndvi_fin[19:90], MiniList_fin[19:90], 1)\n",
    "    \n",
    "    MaxList_fin = []\n",
    "    ndvi_fin = []\n",
    "    for i, val in enumerate(MaxList):\n",
    "        if np.isfinite(val):\n",
    "            MaxList_fin.append(val)\n",
    "            ndvi_fin.append(ndvi_vector[i])\n",
    "    \n",
    "    MaxPfit = np.polyfit(ndvi_fin[19:90], MaxList_fin[19:90], 1)\n",
    "    \n",
    "    return MinPfit, MaxPfit\n"
   ]
  },
  {
   "cell_type": "markdown",
   "id": "4fe282f8-81c6-4ecc-839d-11d08e042245",
   "metadata": {},
   "source": [
    "### 3. `compute_tvdi(ndvi, lst, MinPfit, MaxPfit)`\n",
    "This function calculates the TVDI based on the NDVI, LST, and the polynomial fits for dry and wet edges.\n"
   ]
  },
  {
   "cell_type": "code",
   "execution_count": null,
   "id": "97d6e31d-c491-4b72-9022-c95d4e50e84b",
   "metadata": {},
   "outputs": [],
   "source": [
    "# Calculate TVDI\n",
    "def compute_tvdi(ndvi, lst, MinPfit, MaxPfit):\n",
    "    a1, b1 = MaxPfit\n",
    "    a2, b2 = MinPfit\n",
    "\n",
    "    Ts_max = b1 + (a1 * ndvi)\n",
    "    Ts_min = b2 + (a2 * ndvi)\n",
    "\n",
    "    TVDI = (lst - Ts_min) / (Ts_max - Ts_min)\n",
    "    \n",
    "    return TVDI\n"
   ]
  },
  {
   "cell_type": "markdown",
   "id": "73781c4f-0f08-4a53-b381-72ec6b1eb576",
   "metadata": {},
   "source": [
    "### 4. `plot_scatter(ndvi, lst, MiniList, MaxList, MinPfit, MaxPfit, date, scatter_file=None)`\n",
    "Generates a scatter plot of NDVI vs. LST, along with the wet and dry edges.\n"
   ]
  },
  {
   "cell_type": "code",
   "execution_count": null,
   "id": "a81367e9-46bb-43f0-88ed-2d7b7a5aaaf9",
   "metadata": {},
   "outputs": [],
   "source": [
    "# Plot scatter plot of NDVI vs LST\n",
    "def plot_scatter(ndvi, lst, MiniList, MaxList, MinPfit, MaxPfit, date, scatter_file=None):\n",
    "    ndvi_vector = np.round(np.arange(0.01, 1.01, 0.01), 2)\n",
    "    a1, b1 = MaxPfit\n",
    "    a2, b2 = MinPfit\n",
    "    linhamax = [b1 + (a1 * 0), b1 + (a1 * 1)]\n",
    "    linhamin = [b2 + (a2 * 0), b2 + (a2 * 1)]\n",
    "\n",
    "    plt.plot(ndvi.ravel(), lst.ravel(), \"+\", color='dimgray', markersize=4)\n",
    "    plt.plot(ndvi_vector[14:89], MiniList[14:89], '+', color='b')\n",
    "    plt.plot(ndvi_vector[14:89], MaxList[14:89], '+', color='r')\n",
    "    \n",
    "    if a1 > 0:\n",
    "        plt.plot([0, 1], linhamax, color='r', markersize=8, label=f\"Tsmax = {'%.1f'% b1} + {'%.1f' % abs(a1)} * ndvi\")\n",
    "    else:\n",
    "        plt.plot([0, 1], linhamax, color='r', markersize=8, label=f\"Tsmax = {'%.1f'% b1} - {'%.1f' % abs(a1)} * ndvi\")\n",
    "    \n",
    "    if a2 > 0:\n",
    "        plt.plot([0, 1], linhamin, color='b', markersize=8, label=f\"Tsmin = {'%.1f' % b2} + {'%.1f' % abs(a2)} * ndvi\")\n",
    "    else:\n",
    "        plt.plot([0, 1], linhamin, color='b', markersize=8, label=f\"Tsmin = {'%.1f' % b2} - {'%.1f' % abs(a2)} * ndvi\")\n",
    "    \n",
    "    plt.legend(loc='upper right', fontsize=12)\n",
    "    plt.ylim(top=340, bottom=270)\n",
    "    plt.xlabel(\"ndvi\")\n",
    "    plt.ylabel(\"lst (K)\")\n",
    "    plt.title(f\"ndvi vs lst Scatterplot ({date})\")\n",
    "    \n",
    "    if scatter_file is not None:\n",
    "        plt.savefig(scatter_file)\n",
    "    \n",
    "    plt.show()\n"
   ]
  },
  {
   "cell_type": "markdown",
   "id": "3a43bcaa-faf8-49be-8d79-4df51d448cc6",
   "metadata": {},
   "source": [
    "### 5. `get_min_max(ndvi, lst)`\n",
    "This function calculates the minimum and maximum LST values for each NDVI value.\n"
   ]
  },
  {
   "cell_type": "code",
   "execution_count": null,
   "id": "3aca2e44-818e-460b-91a5-694d7f33dbc1",
   "metadata": {},
   "outputs": [],
   "source": [
    "# Get min and max LST for each NDVI\n",
    "def get_min_max(ndvi, lst):\n",
    "    MiniList = []\n",
    "    MaxList = []\n",
    "    ndvi_vector = np.round(np.arange(0.01, 1.01, 0.01), 2)\n",
    "\n",
    "    for val in ndvi_vector:\n",
    "        indices = np.where((ndvi >= val - 0.001) & (ndvi <= val + 0.001))[0]\n",
    "        \n",
    "        if len(indices) > 0:\n",
    "            lst_min_val = np.nanmin(lst[indices])\n",
    "            lst_max_val = np.nanmax(lst[indices])\n",
    "        else:\n",
    "            lst_min_val = np.nan\n",
    "            lst_max_val = np.nan\n",
    "        \n",
    "        MiniList.append(lst_min_val)\n",
    "        MaxList.append(lst_max_val)\n",
    "\n",
    "    return MiniList, MaxList\n"
   ]
  },
  {
   "cell_type": "markdown",
   "id": "447ffc6e-5e27-40cf-aed4-0d34bd18766d",
   "metadata": {},
   "source": [
    "### 6. `show_tvdi(tvdi, fig_file=None)`\n",
    "Displays the computed TVDI using a heatmap.\n"
   ]
  },
  {
   "cell_type": "code",
   "execution_count": null,
   "id": "4f29630e-8f2e-489c-a408-40e7d5b0de5c",
   "metadata": {},
   "outputs": [],
   "source": [
    "# Display TVDI result\n",
    "def show_tvdi(tvdi, fig_file=None):\n",
    "    plt.imshow(tvdi, cmap='jet_r', vmax=1, vmin=0)\n",
    "    plt.axis('off')\n",
    "    plt.colorbar()\n",
    "    plt.title(\"TVDI\")\n",
    "    \n",
    "    if fig_file is not None:\n",
    "        plt.savefig(fig_file)\n",
    "    \n",
    "    plt.show()\n"
   ]
  },
  {
   "cell_type": "markdown",
   "id": "b96af911-a901-406c-8d8d-06a8cd8a77b4",
   "metadata": {},
   "source": [
    "### 7. `save_tvdi(TVDI, gt, proj, dtype, file_out, lst)`\n",
    "Saves the computed TVDI as a GeoTIFF file.\n"
   ]
  },
  {
   "cell_type": "code",
   "execution_count": null,
   "id": "7d65916e-ff27-4de6-a022-0ca58059af06",
   "metadata": {},
   "outputs": [],
   "source": [
    "# Save TVDI result as GeoTIFF\n",
    "def save_tvdi(TVDI, gt, proj, dtype, file_out, lst):\n",
    "    driver = gdal.GetDriverByName('GTiff')\n",
    "    rows, cols = lst.shape\n",
    "    \n",
    "    if len(TVDI.shape) == 1:\n",
    "        TVDI = TVDI.reshape(rows, cols)\n",
    "    \n",
    "    dset_output = driver.Create(file_out, cols, rows, 1, gdal.GDT_Float32)\n",
    "    dset_output.SetGeoTransform(gt)\n",
    "    dset_output.SetProjection(proj)\n",
    "    dset_output.GetRasterBand(1).WriteArray(TVDI)\n",
    "    dset_output = None\n"
   ]
  },
  {
   "cell_type": "markdown",
   "id": "eea977d0-31ec-40aa-a077-0c2e42033e2a",
   "metadata": {},
   "source": [
    "### 8. `get_data(ndvi_path, lst_path)`\n",
    "Reads the NDVI and LST raster files.\n"
   ]
  },
  {
   "cell_type": "code",
   "execution_count": null,
   "id": "d2556675-0cf6-47ca-8a80-83c86053a089",
   "metadata": {},
   "outputs": [],
   "source": [
    "# Load NDVI and LST data from files\n",
    "def get_data(ndvi_path, lst_path):\n",
    "    ndvi_dataset = gdal.Open(ndvi_path)\n",
    "    lst_dataset = gdal.Open(lst_path)\n",
    "\n",
    "    ndvi = ndvi_dataset.ReadAsArray().astype(float)\n",
    "    lst = lst_dataset.ReadAsArray().astype(float)\n",
    "\n",
    "    return ndvi, lst\n"
   ]
  },
  {
   "cell_type": "markdown",
   "id": "54abed16-8271-461a-9e2c-31781c12d778",
   "metadata": {},
   "source": [
    "## Main Processing Loop\n",
    "The following loop processes each NDVI file, finds the corresponding LST file, computes the TVDI, and saves the result.\n"
   ]
  },
  {
   "cell_type": "code",
   "execution_count": null,
   "id": "185251ea-cdbd-4605-9572-b5d14c4547c9",
   "metadata": {},
   "outputs": [],
   "source": [
    "# Directory paths and multi-factor to scale NDVI\n",
    "ndvi_files = glob('path_to_ndvi_files/*.tif')  # Replace with your NDVI file path\n",
    "lst_dir = 'path_to_lst_files/'  # Replace with your LST file path\n",
    "output_dir = 'path_to_save_results/'  # Replace with your desired output path\n",
    "\n",
    "multi = 0.0001  # Scaling factor for NDVI data\n",
    "\n",
    "# Loop through each NDVI file and process\n",
    "for ndvi_file in ndvi_files:\n",
    "    base_filename = os.path.basename(ndvi_file)\n",
    "    date = base_filename.split(\"_\")[2].split(\".\")[0]\n",
    "    lst_file = lst_dir + f'LST_{date}.tif'  # Adjust naming convention accordingly\n",
    "\n",
    "    # Load NDVI and LST data\n",
    "    ndvi, lst = get_data(ndvi_file, lst_file)\n",
    "\n",
    "    # Rescale NDVI\n",
    "    ndvi *= multi\n",
    "\n",
    "    # Calculate min and max LST values\n",
    "    MiniList, MaxList = get_min_max(ndvi, lst)\n",
    "\n",
    "    # Fit polynomial regression lines\n",
    "    MinPfit, MaxPfit = fit(MiniList, MaxList)\n",
    "\n",
    "    # Calculate TVDI\n",
    "    TVDI = compute_tvdi(ndvi, lst, MinPfit, MaxPfit)\n",
    "\n",
    "    # Save TVDI result\n",
    "    file_out = output_dir + f'TVDI_{date}.tif'\n",
    "    gt, proj, dtype = get_info(ndvi_file)\n",
    "    save_tvdi(TVDI, gt, proj, dtype, file_out, lst)\n",
    "\n",
    "    # Plot scatter plot\n",
    "    plot_scatter(ndvi, lst, MiniList, MaxList, MinPfit, MaxPfit, date)\n",
    "\n",
    "    # Display TVDI heatmap\n",
    "    show_tvdi(TVDI)\n"
   ]
  },
  {
   "cell_type": "markdown",
   "id": "dabb445b-7159-4c55-9925-181d5a840512",
   "metadata": {},
   "source": [
    "This notebook processes NDVI and LST data to calculate and visualize the TVDI for monitoring drought conditions, saving results as GeoTIFF files."
   ]
  }
 ],
 "metadata": {
  "kernelspec": {
   "display_name": "Python 3 (ipykernel)",
   "language": "python",
   "name": "python3"
  },
  "language_info": {
   "codemirror_mode": {
    "name": "ipython",
    "version": 3
   },
   "file_extension": ".py",
   "mimetype": "text/x-python",
   "name": "python",
   "nbconvert_exporter": "python",
   "pygments_lexer": "ipython3",
   "version": "3.10.12"
  }
 },
 "nbformat": 4,
 "nbformat_minor": 5
}
